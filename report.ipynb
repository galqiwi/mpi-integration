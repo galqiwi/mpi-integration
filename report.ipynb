{
 "cells": [
  {
   "cell_type": "code",
   "execution_count": 1,
   "id": "1c75926c",
   "metadata": {},
   "outputs": [
    {
     "name": "stdout",
     "output_type": "stream",
     "text": [
      "3.9.5\n"
     ]
    }
   ],
   "source": [
    "from platform import python_version\n",
    "\n",
    "print(python_version())"
   ]
  },
  {
   "cell_type": "markdown",
   "id": "2bae1034",
   "metadata": {},
   "source": [
    "Сначала соберём проект"
   ]
  },
  {
   "cell_type": "code",
   "execution_count": 2,
   "id": "90345acc",
   "metadata": {},
   "outputs": [
    {
     "name": "stdout",
     "output_type": "stream",
     "text": [
      "-- Configuring done\n",
      "-- Generating done\n",
      "-- Build files have been written to: /home/galqiwi/current_tasks/mpi-integration/build\n",
      "\u001b[35m\u001b[1mConsolidate compiler generated dependencies of target main\u001b[0m\n",
      "[100%] Built target main\n"
     ]
    }
   ],
   "source": [
    "!mkdir -p build && cd build && cmake .. && make"
   ]
  },
  {
   "cell_type": "markdown",
   "id": "148e0388",
   "metadata": {},
   "source": [
    "Запустим файл для того, чтобы посмотреть на формат вывода"
   ]
  },
  {
   "cell_type": "code",
   "execution_count": 3,
   "id": "eb59c0b4",
   "metadata": {},
   "outputs": [
    {
     "name": "stdout",
     "output_type": "stream",
     "text": [
      "n = 10000\r\n",
      "p = 4\r\n",
      "I[0] = 0.979915\r\n",
      "I[1] = 0.874676\r\n",
      "I[2] = 0.719414\r\n",
      "I[3] = 0.567788\r\n",
      "I = 3.14179\r\n",
      "Time = 0.000214308s\r\n"
     ]
    }
   ],
   "source": [
    "!mpirun -np 4 ./build/main 10000"
   ]
  },
  {
   "cell_type": "markdown",
   "id": "f8a9373c",
   "metadata": {},
   "source": [
    "Напишем код, обрабатывающий этот вывод для построения графиков."
   ]
  },
  {
   "cell_type": "markdown",
   "id": "e522c888",
   "metadata": {},
   "source": [
    "Для начала научимся запускать нашу программу из питона"
   ]
  },
  {
   "cell_type": "code",
   "execution_count": 4,
   "id": "9956b3d4",
   "metadata": {},
   "outputs": [],
   "source": [
    "import subprocess\n",
    "from dataclasses import dataclass"
   ]
  },
  {
   "cell_type": "code",
   "execution_count": 5,
   "id": "7f6c275b",
   "metadata": {},
   "outputs": [],
   "source": [
    "EXECUTABLE_PATH = './build/main'"
   ]
  },
  {
   "cell_type": "code",
   "execution_count": 6,
   "id": "4e9880eb",
   "metadata": {},
   "outputs": [],
   "source": [
    "@dataclass(frozen=False)\n",
    "class Run:\n",
    "    n: int\n",
    "    p: int\n",
    "    integral: float\n",
    "    time: float"
   ]
  },
  {
   "cell_type": "code",
   "execution_count": 7,
   "id": "bd7710d6",
   "metadata": {},
   "outputs": [],
   "source": [
    "def run_benchmark(n: int = 10 ** 4, p: int = 4):\n",
    "    process = subprocess.run(f'mpirun -np {p} {EXECUTABLE_PATH} {n}', capture_output=True, shell=True)\n",
    "    raw_output = process.stdout.decode().split('\\n')\n",
    "\n",
    "    class FormatError(Exception):\n",
    "        pass\n",
    "\n",
    "    run = Run(None, None, None, None)\n",
    "    for line in raw_output:\n",
    "        if line.startswith('n = '):\n",
    "            run.n = int(line.removeprefix('n = '))\n",
    "        if line.startswith('p = '):\n",
    "            run.p = int(line.removeprefix('p = '))\n",
    "        if line.startswith('I = '):\n",
    "            run.integral = float(line.removeprefix('I = '))\n",
    "        if line.startswith('Time = ') and line.endswith('s'):\n",
    "            run.time = float(line.removeprefix('Time = ').removesuffix('s'))\n",
    "\n",
    "    if None in (run.p, run.n, run.time, run.integral):\n",
    "        raise FormatError(f'wrong command output {raw_output}')\n",
    "    \n",
    "    assert run.n == n and run.p == p, f'benchmark {run} is running with wrong numbers, expected ({n=}, {p=})'\n",
    "    \n",
    "    return run"
   ]
  },
  {
   "cell_type": "code",
   "execution_count": 8,
   "id": "57905df0",
   "metadata": {},
   "outputs": [
    {
     "data": {
      "text/plain": [
       "Run(n=100000000, p=8, integral=3.14159, time=0.244627)"
      ]
     },
     "execution_count": 8,
     "metadata": {},
     "output_type": "execute_result"
    }
   ],
   "source": [
    "run_benchmark(n = 10 ** 8, p = 8)"
   ]
  },
  {
   "cell_type": "markdown",
   "id": "1453be0b",
   "metadata": {},
   "source": [
    "Получилось простое API, с помощью которого можно набирать статистику. Теперь напишем код для сбора этой статистики и построения графика."
   ]
  },
  {
   "cell_type": "code",
   "execution_count": 9,
   "id": "84c49151",
   "metadata": {},
   "outputs": [],
   "source": [
    "import numpy as np\n",
    "import scipy.stats as sps\n",
    "import seaborn as sns\n",
    "import matplotlib.pyplot as plt\n",
    "import pandas as pd\n",
    "import itertools"
   ]
  },
  {
   "cell_type": "code",
   "execution_count": 20,
   "id": "51ab0fb3",
   "metadata": {},
   "outputs": [],
   "source": [
    "class Benchmarks:\n",
    "    benchmarks_data = pd.DataFrame()\n",
    "\n",
    "    def add_benchmark(self, n: int, p: int):\n",
    "        run = run_benchmark(n, p)\n",
    "        self.benchmarks_data = self.benchmarks_data.append({\n",
    "            'n': np.int32(run.n),\n",
    "            'p': np.int32(run.p),\n",
    "            'integral': np.float32(run.integral),\n",
    "            'time': np.float32(run.time)\n",
    "        }, ignore_index=True)\n",
    "        self.benchmarks_data = self.benchmarks_data.convert_dtypes()\n",
    "    \n",
    "    @property\n",
    "    def mean_time(self):\n",
    "        return self.benchmarks_data.groupby(['n', 'p']).mean().reset_index(level=0).reset_index(level=0)[['n', 'p', 'time']].convert_dtypes()\n",
    "    \n",
    "    @property\n",
    "    def min_time(self):\n",
    "        return self.mean_time[benchmarks.mean_time.p == 1][['n', 'time']].convert_dtypes()\n",
    "    \n",
    "    @property\n",
    "    def speedup_data(self):\n",
    "        out = self.mean_time.merge(self.min_time, left_on='n', right_on='n', suffixes=('', '_min')).convert_dtypes()\n",
    "        out['speedup'] = out.time_min / out.time\n",
    "        return out"
   ]
  },
  {
   "cell_type": "code",
   "execution_count": 11,
   "id": "3a0c0f52",
   "metadata": {
    "scrolled": true
   },
   "outputs": [],
   "source": [
    "# работает долго, это нормально\n",
    "benchmarks = Benchmarks()\n",
    "\n",
    "for n, p, measurement_id in itertools.product([10 ** 3, 10 ** 6, 10 ** 8], range(1, 9), range(16)):\n",
    "    benchmarks.add_benchmark(n, p)"
   ]
  },
  {
   "cell_type": "markdown",
   "id": "6b8fd097",
   "metadata": {},
   "source": [
    "У нас получилось набрать статистику"
   ]
  },
  {
   "cell_type": "code",
   "execution_count": 12,
   "id": "f466ab44",
   "metadata": {},
   "outputs": [
    {
     "data": {
      "text/html": [
       "<div>\n",
       "<style scoped>\n",
       "    .dataframe tbody tr th:only-of-type {\n",
       "        vertical-align: middle;\n",
       "    }\n",
       "\n",
       "    .dataframe tbody tr th {\n",
       "        vertical-align: top;\n",
       "    }\n",
       "\n",
       "    .dataframe thead th {\n",
       "        text-align: right;\n",
       "    }\n",
       "</style>\n",
       "<table border=\"1\" class=\"dataframe\">\n",
       "  <thead>\n",
       "    <tr style=\"text-align: right;\">\n",
       "      <th></th>\n",
       "      <th>n</th>\n",
       "      <th>p</th>\n",
       "      <th>time</th>\n",
       "      <th>time_min</th>\n",
       "      <th>speedup</th>\n",
       "    </tr>\n",
       "  </thead>\n",
       "  <tbody>\n",
       "    <tr>\n",
       "      <th>0</th>\n",
       "      <td>1000</td>\n",
       "      <td>1</td>\n",
       "      <td>0.000045</td>\n",
       "      <td>0.000045</td>\n",
       "      <td>1.0</td>\n",
       "    </tr>\n",
       "    <tr>\n",
       "      <th>1</th>\n",
       "      <td>1000</td>\n",
       "      <td>2</td>\n",
       "      <td>0.000056</td>\n",
       "      <td>0.000045</td>\n",
       "      <td>1.238967</td>\n",
       "    </tr>\n",
       "    <tr>\n",
       "      <th>2</th>\n",
       "      <td>1000</td>\n",
       "      <td>3</td>\n",
       "      <td>0.000083</td>\n",
       "      <td>0.000045</td>\n",
       "      <td>1.824529</td>\n",
       "    </tr>\n",
       "    <tr>\n",
       "      <th>3</th>\n",
       "      <td>1000</td>\n",
       "      <td>4</td>\n",
       "      <td>0.000105</td>\n",
       "      <td>0.000045</td>\n",
       "      <td>2.312399</td>\n",
       "    </tr>\n",
       "    <tr>\n",
       "      <th>4</th>\n",
       "      <td>1000</td>\n",
       "      <td>5</td>\n",
       "      <td>0.000084</td>\n",
       "      <td>0.000045</td>\n",
       "      <td>1.845823</td>\n",
       "    </tr>\n",
       "  </tbody>\n",
       "</table>\n",
       "</div>"
      ],
      "text/plain": [
       "      n  p      time  time_min   speedup\n",
       "0  1000  1  0.000045  0.000045       1.0\n",
       "1  1000  2  0.000056  0.000045  1.238967\n",
       "2  1000  3  0.000083  0.000045  1.824529\n",
       "3  1000  4  0.000105  0.000045  2.312399\n",
       "4  1000  5  0.000084  0.000045  1.845823"
      ]
     },
     "execution_count": 12,
     "metadata": {},
     "output_type": "execute_result"
    }
   ],
   "source": [
    "benchmarks.speedup_data.head()"
   ]
  },
  {
   "cell_type": "markdown",
   "id": "42153f3f",
   "metadata": {},
   "source": [
    "Теперь построим график и увидем, что при малых $N$ ($10^4$) при увеличении количества исполнителей, время только увеличивается, а при больших ($10^6-10^8$) значениях наблюдается эффект, который заключается в том, что, чем больше $N$, тем лучше распараллеливается наш алгоритм."
   ]
  },
  {
   "cell_type": "code",
   "execution_count": 23,
   "id": "09a41003",
   "metadata": {},
   "outputs": [
    {
     "data": {
      "image/png": "[encoded data removed]",
      "text/plain": [
       "<Figure size 720x504 with 1 Axes>"
      ]
     },
     "metadata": {},
     "output_type": "display_data"
    }
   ],
   "source": [
    "plt.figure(figsize=(10, 7))\n",
    "ax = plt.gca()\n",
    "sns.scatterplot(data = benchmarks.speedup_data,\n",
    "                x='p', y='speedup',\n",
    "                hue=pd.Categorical(benchmarks.speedup_data.n),\n",
    "                palette='Dark2', ax=ax)\n",
    "\n",
    "ax.set_yscale('log')\n",
    "ax.set_xlabel('количество ядер')\n",
    "ax.set_ylabel('ускорение')\n",
    "\n",
    "y_ticks = list(np.linspace(start=0.2, stop=1.0, num=9)) + \\\n",
    "          list(np.linspace(start=1, stop=6, num=6))\n",
    "\n",
    "plt.yticks(y_ticks, [f'{y:.1f}' for y in y_ticks])\n",
    "plt.show()"
   ]
  }
 ],
 "metadata": {
  "kernelspec": {
   "display_name": "Python 3",
   "language": "python",
   "name": "python3"
  },
  "language_info": {
   "codemirror_mode": {
    "name": "ipython",
    "version": 3
   },
   "file_extension": ".py",
   "mimetype": "text/x-python",
   "name": "python",
   "nbconvert_exporter": "python",
   "pygments_lexer": "ipython3",
   "version": "3.9.5"
  }
 },
 "nbformat": 4,
 "nbformat_minor": 5
}
